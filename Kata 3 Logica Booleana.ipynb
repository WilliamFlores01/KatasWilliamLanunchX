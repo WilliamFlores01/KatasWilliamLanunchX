{
 "cells": [
  {
   "cell_type": "markdown",
   "metadata": {},
   "source": [
    "Sistema de alarma de aproximacion de objetos espaciales"
   ]
  },
  {
   "cell_type": "code",
   "execution_count": 23,
   "metadata": {},
   "outputs": [
    {
     "name": "stdout",
     "output_type": "stream",
     "text": [
      "Alerta de impacto de asteroide\n"
     ]
    }
   ],
   "source": [
    "VdA=49 \n",
    "if VdA >= 25: \n",
    "      print('Alerta de impacto de asteroide')\n",
    "elif VdA <= 25: \n",
    "    print('Noy existe riesgo de impacto')"
   ]
  },
  {
   "cell_type": "code",
   "execution_count": 25,
   "metadata": {},
   "outputs": [
    {
     "name": "stdout",
     "output_type": "stream",
     "text": [
      "El cielo se ilumino magicamente\n"
     ]
    }
   ],
   "source": [
    "Asteroide = 19\n",
    "if Asteroide ==20:\n",
    "    print('Hay una luz visible desde la tierra') \n",
    "elif Asteroide <=20:\n",
    "    print('El cielo se ilumino magicamente')\n",
    "else:\n",
    "    print('El cielo visible esta despejado')\n",
    "\n"
   ]
  },
  {
   "cell_type": "code",
   "execution_count": 28,
   "metadata": {},
   "outputs": [
    {
     "name": "stdout",
     "output_type": "stream",
     "text": [
      "Una estrella fugaz es visible :0\n"
     ]
    }
   ],
   "source": [
    "tamaño_asteroide = 40\n",
    "velocidad_asteroide = 25\n",
    "if velocidad_asteroide > 25 and tamaño_asteroide > 25:\n",
    "    print ('Un asteroide impactara la tierra causando mucho daño')\n",
    "elif velocidad_asteroide >= 20:\n",
    "    print('Una estrella fugaz es visible :0') \n",
    "elif tamaño_asteroide < 25:\n",
    "    print('No hay peligro aparente')\n",
    "else:\n",
    "    print('No hay ninguna alerta emitida')"
   ]
  }
 ],
 "metadata": {
  "interpreter": {
   "hash": "62602c8f7145d8897a578677fcfebd3e7fb8359d32282d2197510835a7415419"
  },
  "kernelspec": {
   "display_name": "Python 3.10.2 64-bit",
   "language": "python",
   "name": "python3"
  },
  "language_info": {
   "codemirror_mode": {
    "name": "ipython",
    "version": 3
   },
   "file_extension": ".py",
   "mimetype": "text/x-python",
   "name": "python",
   "nbconvert_exporter": "python",
   "pygments_lexer": "ipython3",
   "version": "3.10.2"
  },
  "orig_nbformat": 4
 },
 "nbformat": 4,
 "nbformat_minor": 2
}
